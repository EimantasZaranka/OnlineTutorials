{
  "nbformat": 4,
  "nbformat_minor": 0,
  "metadata": {
    "colab": {
      "name": "ZeroToMasteryTensorFlow.ipynb",
      "provenance": [],
      "collapsed_sections": [],
      "toc_visible": true
    },
    "kernelspec": {
      "name": "python3",
      "display_name": "Python 3"
    },
    "language_info": {
      "name": "python"
    }
  },
  "cells": [
    {
      "cell_type": "markdown",
      "metadata": {
        "id": "KBSyXMVVToBI"
      },
      "source": [
        "# 00. Getting started with Tensorflow: A guide to the fundamentals\n",
        "\n",
        "[Section Link](https://dev.mrdbourke.com/tensorflow-deep-learning/00_tensorflow_fundamentals/)\n",
        "\n",
        "This section covers:\n",
        "- Introduction to tensors;\n",
        "- Getting information from tensors;\n",
        "- Manipulating tensors;\n",
        "- Tensors and numpy;\n",
        "- Using @tf.function;\n",
        "- Using GPUs with Tensorflow\n",
        "- Exercises\n"
      ]
    },
    {
      "cell_type": "markdown",
      "metadata": {
        "id": "yPEoUaNjUV1P"
      },
      "source": [
        "## Introduction to Tensors\n",
        "\n",
        "tensor is a multi-dimensional numeric representation of something. The main difference between tensors and NumPy arrays is that tensors can be used on GPUs and TPUs.\n",
        "\n"
      ]
    },
    {
      "cell_type": "code",
      "metadata": {
        "colab": {
          "base_uri": "https://localhost:8080/"
        },
        "id": "rSE1OXvVTi2e",
        "outputId": "4e5a6f8f-147f-41ce-d3f8-c8530f33ac5d"
      },
      "source": [
        "import tensorflow as tf\n",
        "print(tf.__version__)"
      ],
      "execution_count": 1,
      "outputs": [
        {
          "output_type": "stream",
          "text": [
            "2.5.0\n"
          ],
          "name": "stdout"
        }
      ]
    },
    {
      "cell_type": "markdown",
      "metadata": {
        "id": "Ufhtr9wDWxth"
      },
      "source": [
        "### tf.constant"
      ]
    },
    {
      "cell_type": "code",
      "metadata": {
        "colab": {
          "base_uri": "https://localhost:8080/"
        },
        "id": "9Qoll_knUxxG",
        "outputId": "ffdfd60b-f5a0-483e-9ddb-39cde102b304"
      },
      "source": [
        "# rank 0 tensor, because it has no dimensions (only a number)\n",
        "scalar = tf.constant(7)\n",
        "scalar"
      ],
      "execution_count": 3,
      "outputs": [
        {
          "output_type": "execute_result",
          "data": {
            "text/plain": [
              "<tf.Tensor: shape=(), dtype=int32, numpy=7>"
            ]
          },
          "metadata": {
            "tags": []
          },
          "execution_count": 3
        }
      ]
    },
    {
      "cell_type": "code",
      "metadata": {
        "colab": {
          "base_uri": "https://localhost:8080/"
        },
        "id": "a83yNmTZU_tm",
        "outputId": "0b169121-98eb-4e74-f1e5-7f2b322ec54f"
      },
      "source": [
        "scalar.ndim"
      ],
      "execution_count": 4,
      "outputs": [
        {
          "output_type": "execute_result",
          "data": {
            "text/plain": [
              "0"
            ]
          },
          "metadata": {
            "tags": []
          },
          "execution_count": 4
        }
      ]
    },
    {
      "cell_type": "code",
      "metadata": {
        "colab": {
          "base_uri": "https://localhost:8080/"
        },
        "id": "CvCntCZ_VLJ7",
        "outputId": "b981b463-01fe-4cc9-ac0f-74b5dfe70b5d"
      },
      "source": [
        "vector = tf.constant([10,10])\n",
        "vector, vector.ndim"
      ],
      "execution_count": 5,
      "outputs": [
        {
          "output_type": "execute_result",
          "data": {
            "text/plain": [
              "(<tf.Tensor: shape=(2,), dtype=int32, numpy=array([10, 10], dtype=int32)>, 1)"
            ]
          },
          "metadata": {
            "tags": []
          },
          "execution_count": 5
        }
      ]
    },
    {
      "cell_type": "code",
      "metadata": {
        "colab": {
          "base_uri": "https://localhost:8080/"
        },
        "id": "qC1xzlFAVSoN",
        "outputId": "b2b7cf9e-c970-471e-a0c8-fc8076da0ae7"
      },
      "source": [
        "matrix = tf.constant([[10,7], [7,10]])\n",
        "matrix, matrix.ndim"
      ],
      "execution_count": 6,
      "outputs": [
        {
          "output_type": "execute_result",
          "data": {
            "text/plain": [
              "(<tf.Tensor: shape=(2, 2), dtype=int32, numpy=\n",
              " array([[10,  7],\n",
              "        [ 7, 10]], dtype=int32)>, 2)"
            ]
          },
          "metadata": {
            "tags": []
          },
          "execution_count": 6
        }
      ]
    },
    {
      "cell_type": "code",
      "metadata": {
        "colab": {
          "base_uri": "https://localhost:8080/"
        },
        "id": "CWogOYS2VeqD",
        "outputId": "0158ea07-5b5b-4dee-c4a7-02d60704d23b"
      },
      "source": [
        "another_matrix = tf.constant([[10.,7,],\n",
        "                              [3.,2.,],\n",
        "                              [8.,9.]], dtype=tf.float16)\n",
        "another_matrix, another_matrix.ndim"
      ],
      "execution_count": 8,
      "outputs": [
        {
          "output_type": "execute_result",
          "data": {
            "text/plain": [
              "(<tf.Tensor: shape=(3, 2), dtype=float16, numpy=\n",
              " array([[10.,  7.],\n",
              "        [ 3.,  2.],\n",
              "        [ 8.,  9.]], dtype=float16)>, 2)"
            ]
          },
          "metadata": {
            "tags": []
          },
          "execution_count": 8
        }
      ]
    },
    {
      "cell_type": "code",
      "metadata": {
        "colab": {
          "base_uri": "https://localhost:8080/"
        },
        "id": "AnBXGKgdV3ry",
        "outputId": "dd7e9cca-49ff-4fa6-fa27-16eb96e8684c"
      },
      "source": [
        "tensor = tf.constant([[[1,2,3],\n",
        "                       [4,5,6]],\n",
        "                      [[7,8,9],\n",
        "                       [10,11,12]],\n",
        "                     [[13,14,15],\n",
        "                      [16,17,18]]])\n",
        "tensor, tensor.ndim"
      ],
      "execution_count": 13,
      "outputs": [
        {
          "output_type": "execute_result",
          "data": {
            "text/plain": [
              "(<tf.Tensor: shape=(3, 2, 3), dtype=int32, numpy=\n",
              " array([[[ 1,  2,  3],\n",
              "         [ 4,  5,  6]],\n",
              " \n",
              "        [[ 7,  8,  9],\n",
              "         [10, 11, 12]],\n",
              " \n",
              "        [[13, 14, 15],\n",
              "         [16, 17, 18]]], dtype=int32)>, 3)"
            ]
          },
          "metadata": {
            "tags": []
          },
          "execution_count": 13
        }
      ]
    },
    {
      "cell_type": "markdown",
      "metadata": {
        "id": "1LDXXc5mWzxp"
      },
      "source": [
        "### tf.Variable\n",
        "\n",
        "tensors created with tf.constant are immutable"
      ]
    },
    {
      "cell_type": "code",
      "metadata": {
        "colab": {
          "base_uri": "https://localhost:8080/"
        },
        "id": "DgG6zYk-WRcP",
        "outputId": "2d9df268-e782-405b-9f2f-d14af323c044"
      },
      "source": [
        "changeable_tensor = tf.Variable([10,7])\n",
        "unchangeable_tensor = tf.constant([10,7])\n",
        "changeable_tensor, unchangeable_tensor"
      ],
      "execution_count": 14,
      "outputs": [
        {
          "output_type": "execute_result",
          "data": {
            "text/plain": [
              "(<tf.Variable 'Variable:0' shape=(2,) dtype=int32, numpy=array([10,  7], dtype=int32)>,\n",
              " <tf.Tensor: shape=(2,), dtype=int32, numpy=array([10,  7], dtype=int32)>)"
            ]
          },
          "metadata": {
            "tags": []
          },
          "execution_count": 14
        }
      ]
    },
    {
      "cell_type": "code",
      "metadata": {
        "colab": {
          "base_uri": "https://localhost:8080/"
        },
        "id": "ZZ4hjIUhXO0q",
        "outputId": "604b06b2-24a8-4970-dbe9-8f1b8d4b41b8"
      },
      "source": [
        "changeable_tensor[0].assign(7)\n",
        "changeable_tensor"
      ],
      "execution_count": 16,
      "outputs": [
        {
          "output_type": "execute_result",
          "data": {
            "text/plain": [
              "<tf.Variable 'Variable:0' shape=(2,) dtype=int32, numpy=array([7, 7], dtype=int32)>"
            ]
          },
          "metadata": {
            "tags": []
          },
          "execution_count": 16
        }
      ]
    },
    {
      "cell_type": "markdown",
      "metadata": {
        "id": "aNlPgc4HXgzd"
      },
      "source": [
        "### Creating random tensors"
      ]
    },
    {
      "cell_type": "code",
      "metadata": {
        "colab": {
          "base_uri": "https://localhost:8080/"
        },
        "id": "ZGwjmtNvXVBD",
        "outputId": "c65f7738-9a74-4225-c2d6-7ad9a5b6e9d5"
      },
      "source": [
        "random_1 = tf.random.Generator.from_seed(42) # set the seed for reproducibility\n",
        "random_1 = random_1.normal(shape=(3,2)) # create tensor from a normal distribution\n",
        "random_2 = tf.random.Generator.from_seed(42)\n",
        "random_2 = random_2.normal(shape=(3,2))\n",
        "\n",
        "random_1, random_2, random_1 == random_2"
      ],
      "execution_count": 18,
      "outputs": [
        {
          "output_type": "execute_result",
          "data": {
            "text/plain": [
              "(<tf.Tensor: shape=(3, 2), dtype=float32, numpy=\n",
              " array([[-0.7565803 , -0.06854702],\n",
              "        [ 0.07595026, -1.2573844 ],\n",
              "        [-0.23193763, -1.8107855 ]], dtype=float32)>,\n",
              " <tf.Tensor: shape=(3, 2), dtype=float32, numpy=\n",
              " array([[-0.7565803 , -0.06854702],\n",
              "        [ 0.07595026, -1.2573844 ],\n",
              "        [-0.23193763, -1.8107855 ]], dtype=float32)>,\n",
              " <tf.Tensor: shape=(3, 2), dtype=bool, numpy=\n",
              " array([[ True,  True],\n",
              "        [ True,  True],\n",
              "        [ True,  True]])>)"
            ]
          },
          "metadata": {
            "tags": []
          },
          "execution_count": 18
        }
      ]
    },
    {
      "cell_type": "code",
      "metadata": {
        "colab": {
          "base_uri": "https://localhost:8080/"
        },
        "id": "c1gjn9w1YS39",
        "outputId": "79265869-3f88-47f3-9cfd-d26565624a8b"
      },
      "source": [
        "random_1 = tf.random.Generator.from_seed(42) # set the seed for reproducibility\n",
        "random_1 = random_1.normal(shape=(3,2)) # create tensor from a normal distribution\n",
        "random_2 = tf.random.Generator.from_seed(11)\n",
        "random_2 = random_2.normal(shape=(3,2))\n",
        "\n",
        "random_1, random_2, random_1 == random_2"
      ],
      "execution_count": 19,
      "outputs": [
        {
          "output_type": "execute_result",
          "data": {
            "text/plain": [
              "(<tf.Tensor: shape=(3, 2), dtype=float32, numpy=\n",
              " array([[-0.7565803 , -0.06854702],\n",
              "        [ 0.07595026, -1.2573844 ],\n",
              "        [-0.23193763, -1.8107855 ]], dtype=float32)>,\n",
              " <tf.Tensor: shape=(3, 2), dtype=float32, numpy=\n",
              " array([[ 0.27305737, -0.29925638],\n",
              "        [-0.3652325 ,  0.61883307],\n",
              "        [-1.0130816 ,  0.28291714]], dtype=float32)>,\n",
              " <tf.Tensor: shape=(3, 2), dtype=bool, numpy=\n",
              " array([[False, False],\n",
              "        [False, False],\n",
              "        [False, False]])>)"
            ]
          },
          "metadata": {
            "tags": []
          },
          "execution_count": 19
        }
      ]
    },
    {
      "cell_type": "code",
      "metadata": {
        "colab": {
          "base_uri": "https://localhost:8080/"
        },
        "id": "JBM6GZjQYjw4",
        "outputId": "2afc930d-3041-4b7e-ee6f-1ed59f716bff"
      },
      "source": [
        "not_shuffled = tf.constant([[10,7],\n",
        "                            [3,4],\n",
        "                            [2,5]])\n",
        "\n",
        "tf.random.shuffle(not_shuffled)"
      ],
      "execution_count": 21,
      "outputs": [
        {
          "output_type": "execute_result",
          "data": {
            "text/plain": [
              "<tf.Tensor: shape=(3, 2), dtype=int32, numpy=\n",
              "array([[ 2,  5],\n",
              "       [ 3,  4],\n",
              "       [10,  7]], dtype=int32)>"
            ]
          },
          "metadata": {
            "tags": []
          },
          "execution_count": 21
        }
      ]
    },
    {
      "cell_type": "code",
      "metadata": {
        "colab": {
          "base_uri": "https://localhost:8080/"
        },
        "id": "QLhXhQ3-YzPg",
        "outputId": "bfc04ef3-f519-4dbf-8aa1-1752908c7e91"
      },
      "source": [
        "tf.random.shuffle(not_shuffled, seed=42)"
      ],
      "execution_count": 23,
      "outputs": [
        {
          "output_type": "execute_result",
          "data": {
            "text/plain": [
              "<tf.Tensor: shape=(3, 2), dtype=int32, numpy=\n",
              "array([[ 2,  5],\n",
              "       [ 3,  4],\n",
              "       [10,  7]], dtype=int32)>"
            ]
          },
          "metadata": {
            "tags": []
          },
          "execution_count": 23
        }
      ]
    },
    {
      "cell_type": "code",
      "metadata": {
        "id": "zjTW3ueiY-Y7"
      },
      "source": [
        "# seed can be set globally\n",
        "rf.random.set_seed(42)"
      ],
      "execution_count": null,
      "outputs": []
    },
    {
      "cell_type": "markdown",
      "metadata": {
        "id": "7ew-oUF1ZPHE"
      },
      "source": [
        "### Other ways to make tensors"
      ]
    },
    {
      "cell_type": "code",
      "metadata": {
        "colab": {
          "base_uri": "https://localhost:8080/"
        },
        "id": "RFy2LiqxZGHC",
        "outputId": "411a0e2a-ecc7-4849-ab8a-1ad8db6c77f6"
      },
      "source": [
        "tf.ones(shape=(3,2))"
      ],
      "execution_count": 24,
      "outputs": [
        {
          "output_type": "execute_result",
          "data": {
            "text/plain": [
              "<tf.Tensor: shape=(3, 2), dtype=float32, numpy=\n",
              "array([[1., 1.],\n",
              "       [1., 1.],\n",
              "       [1., 1.]], dtype=float32)>"
            ]
          },
          "metadata": {
            "tags": []
          },
          "execution_count": 24
        }
      ]
    },
    {
      "cell_type": "code",
      "metadata": {
        "colab": {
          "base_uri": "https://localhost:8080/"
        },
        "id": "JHbYo31BZVsB",
        "outputId": "80ca125b-3d1e-4a8d-a4c0-661bc267f7e5"
      },
      "source": [
        "tf.zeros(shape=(3,2))"
      ],
      "execution_count": 25,
      "outputs": [
        {
          "output_type": "execute_result",
          "data": {
            "text/plain": [
              "<tf.Tensor: shape=(3, 2), dtype=float32, numpy=\n",
              "array([[0., 0.],\n",
              "       [0., 0.],\n",
              "       [0., 0.]], dtype=float32)>"
            ]
          },
          "metadata": {
            "tags": []
          },
          "execution_count": 25
        }
      ]
    },
    {
      "cell_type": "code",
      "metadata": {
        "colab": {
          "base_uri": "https://localhost:8080/"
        },
        "id": "OPMoeC6IZYRX",
        "outputId": "7bb3f4ba-b92c-496a-be20-4e44082ce972"
      },
      "source": [
        "import numpy as np\n",
        "\n",
        "numpy_A = np.arange(1, 25, dtype=np.int32)\n",
        "A = tf.constant(numpy_A, shape=[2,4,3])\n",
        "numpy_A, A"
      ],
      "execution_count": 26,
      "outputs": [
        {
          "output_type": "execute_result",
          "data": {
            "text/plain": [
              "(array([ 1,  2,  3,  4,  5,  6,  7,  8,  9, 10, 11, 12, 13, 14, 15, 16, 17,\n",
              "        18, 19, 20, 21, 22, 23, 24], dtype=int32),\n",
              " <tf.Tensor: shape=(2, 4, 3), dtype=int32, numpy=\n",
              " array([[[ 1,  2,  3],\n",
              "         [ 4,  5,  6],\n",
              "         [ 7,  8,  9],\n",
              "         [10, 11, 12]],\n",
              " \n",
              "        [[13, 14, 15],\n",
              "         [16, 17, 18],\n",
              "         [19, 20, 21],\n",
              "         [22, 23, 24]]], dtype=int32)>)"
            ]
          },
          "metadata": {
            "tags": []
          },
          "execution_count": 26
        }
      ]
    },
    {
      "cell_type": "markdown",
      "metadata": {
        "id": "tS5RXnoDZrNX"
      },
      "source": [
        "## Getting information from tensors (shape, rank, size)"
      ]
    },
    {
      "cell_type": "code",
      "metadata": {
        "colab": {
          "base_uri": "https://localhost:8080/"
        },
        "id": "3wkfSer8ZmsV",
        "outputId": "964b1b7a-ced2-4d7f-b5cf-383b12e4f0a6"
      },
      "source": [
        "rank_4_tensor = tf.zeros([2,3,4,5])\n",
        "rank_4_tensor"
      ],
      "execution_count": 27,
      "outputs": [
        {
          "output_type": "execute_result",
          "data": {
            "text/plain": [
              "<tf.Tensor: shape=(2, 3, 4, 5), dtype=float32, numpy=\n",
              "array([[[[0., 0., 0., 0., 0.],\n",
              "         [0., 0., 0., 0., 0.],\n",
              "         [0., 0., 0., 0., 0.],\n",
              "         [0., 0., 0., 0., 0.]],\n",
              "\n",
              "        [[0., 0., 0., 0., 0.],\n",
              "         [0., 0., 0., 0., 0.],\n",
              "         [0., 0., 0., 0., 0.],\n",
              "         [0., 0., 0., 0., 0.]],\n",
              "\n",
              "        [[0., 0., 0., 0., 0.],\n",
              "         [0., 0., 0., 0., 0.],\n",
              "         [0., 0., 0., 0., 0.],\n",
              "         [0., 0., 0., 0., 0.]]],\n",
              "\n",
              "\n",
              "       [[[0., 0., 0., 0., 0.],\n",
              "         [0., 0., 0., 0., 0.],\n",
              "         [0., 0., 0., 0., 0.],\n",
              "         [0., 0., 0., 0., 0.]],\n",
              "\n",
              "        [[0., 0., 0., 0., 0.],\n",
              "         [0., 0., 0., 0., 0.],\n",
              "         [0., 0., 0., 0., 0.],\n",
              "         [0., 0., 0., 0., 0.]],\n",
              "\n",
              "        [[0., 0., 0., 0., 0.],\n",
              "         [0., 0., 0., 0., 0.],\n",
              "         [0., 0., 0., 0., 0.],\n",
              "         [0., 0., 0., 0., 0.]]]], dtype=float32)>"
            ]
          },
          "metadata": {
            "tags": []
          },
          "execution_count": 27
        }
      ]
    },
    {
      "cell_type": "code",
      "metadata": {
        "colab": {
          "base_uri": "https://localhost:8080/"
        },
        "id": "SNJqQcTEZz0f",
        "outputId": "c8667781-de16-42a7-8076-38de12154d8a"
      },
      "source": [
        "rank_4_tensor.shape, rank_4_tensor.ndim, tf.size(rank_4_tensor)"
      ],
      "execution_count": 28,
      "outputs": [
        {
          "output_type": "execute_result",
          "data": {
            "text/plain": [
              "(TensorShape([2, 3, 4, 5]), 4, <tf.Tensor: shape=(), dtype=int32, numpy=120>)"
            ]
          },
          "metadata": {
            "tags": []
          },
          "execution_count": 28
        }
      ]
    },
    {
      "cell_type": "code",
      "metadata": {
        "colab": {
          "base_uri": "https://localhost:8080/"
        },
        "id": "i1RheskSZ7LF",
        "outputId": "feb91c4c-a8f9-4bef-f117-892c15f41866"
      },
      "source": [
        "# Get various attributes of tensor\n",
        "print(\"Datatype of every element: \", rank_4_tensor.dtype)\n",
        "print(\"Number of dimensions (rank): \", rank_4_tensor.ndim)\n",
        "print(\"Shape of tensor: \", rank_4_tensor.shape)\n",
        "print(\"Elemens along axis 0 of tensor\", rank_4_tensor.shape[0])\n",
        "print(\"Elements along last axis of tensor: \", rank_4_tensor.shape[-1])\n",
        "print(\"Total number of elements (2*3*4*5): \", tf.size(rank_4_tensor).numpy())"
      ],
      "execution_count": 29,
      "outputs": [
        {
          "output_type": "stream",
          "text": [
            "Datatype of every element:  <dtype: 'float32'>\n",
            "Number of dimensions (rank):  4\n",
            "Shape of tensor:  (2, 3, 4, 5)\n",
            "Elemens along axis 0 of tensor 2\n",
            "Elements along last axis of tensor:  5\n",
            "Total number of elements (2*3*4*5):  120\n"
          ],
          "name": "stdout"
        }
      ]
    },
    {
      "cell_type": "code",
      "metadata": {
        "colab": {
          "base_uri": "https://localhost:8080/"
        },
        "id": "q5wR91Uobr5A",
        "outputId": "a5928490-b763-4a31-8cd2-5341c9099826"
      },
      "source": [
        "# indexing tensors just like Python list\n",
        "rank_4_tensor[:2,:2,:2,:2]"
      ],
      "execution_count": 30,
      "outputs": [
        {
          "output_type": "execute_result",
          "data": {
            "text/plain": [
              "<tf.Tensor: shape=(2, 2, 2, 2), dtype=float32, numpy=\n",
              "array([[[[0., 0.],\n",
              "         [0., 0.]],\n",
              "\n",
              "        [[0., 0.],\n",
              "         [0., 0.]]],\n",
              "\n",
              "\n",
              "       [[[0., 0.],\n",
              "         [0., 0.]],\n",
              "\n",
              "        [[0., 0.],\n",
              "         [0., 0.]]]], dtype=float32)>"
            ]
          },
          "metadata": {
            "tags": []
          },
          "execution_count": 30
        }
      ]
    },
    {
      "cell_type": "code",
      "metadata": {
        "colab": {
          "base_uri": "https://localhost:8080/"
        },
        "id": "389Sd8rnb5O4",
        "outputId": "8ccfc738-2ace-489a-eb8b-5c0a62f808e9"
      },
      "source": [
        "rank_4_tensor[:1,:1,:1,:]"
      ],
      "execution_count": 31,
      "outputs": [
        {
          "output_type": "execute_result",
          "data": {
            "text/plain": [
              "<tf.Tensor: shape=(1, 1, 1, 5), dtype=float32, numpy=array([[[[0., 0., 0., 0., 0.]]]], dtype=float32)>"
            ]
          },
          "metadata": {
            "tags": []
          },
          "execution_count": 31
        }
      ]
    },
    {
      "cell_type": "code",
      "metadata": {
        "colab": {
          "base_uri": "https://localhost:8080/"
        },
        "id": "cpn1amMPcA3y",
        "outputId": "9a5fce42-ecfb-4705-f53e-6638caaa9777"
      },
      "source": [
        "rank_2_tensor = tf.constant([[10, 7],\n",
        "                             [3, 4]])\n",
        "\n",
        "rank_2_tensor[:, -1]"
      ],
      "execution_count": 32,
      "outputs": [
        {
          "output_type": "execute_result",
          "data": {
            "text/plain": [
              "<tf.Tensor: shape=(2,), dtype=int32, numpy=array([7, 4], dtype=int32)>"
            ]
          },
          "metadata": {
            "tags": []
          },
          "execution_count": 32
        }
      ]
    },
    {
      "cell_type": "code",
      "metadata": {
        "colab": {
          "base_uri": "https://localhost:8080/"
        },
        "id": "pIZiAke_cNk7",
        "outputId": "0a720c15-5ebd-40e5-f1f3-5e2eff290076"
      },
      "source": [
        "rank_2_tensor[:1, :]"
      ],
      "execution_count": 33,
      "outputs": [
        {
          "output_type": "execute_result",
          "data": {
            "text/plain": [
              "<tf.Tensor: shape=(1, 2), dtype=int32, numpy=array([[10,  7]], dtype=int32)>"
            ]
          },
          "metadata": {
            "tags": []
          },
          "execution_count": 33
        }
      ]
    },
    {
      "cell_type": "code",
      "metadata": {
        "colab": {
          "base_uri": "https://localhost:8080/"
        },
        "id": "X-r-rCUlcQkU",
        "outputId": "24a9f3ac-e3d0-4fb9-8538-51085c5d6299"
      },
      "source": [
        "rank_2_tensor[-1, :]"
      ],
      "execution_count": 34,
      "outputs": [
        {
          "output_type": "execute_result",
          "data": {
            "text/plain": [
              "<tf.Tensor: shape=(2,), dtype=int32, numpy=array([3, 4], dtype=int32)>"
            ]
          },
          "metadata": {
            "tags": []
          },
          "execution_count": 34
        }
      ]
    },
    {
      "cell_type": "code",
      "metadata": {
        "colab": {
          "base_uri": "https://localhost:8080/"
        },
        "id": "xSl58gfVcVh7",
        "outputId": "98f2bf45-ec2a-4e69-dba8-353dcee69d8d"
      },
      "source": [
        "rank_2_tensor[0,:]"
      ],
      "execution_count": 36,
      "outputs": [
        {
          "output_type": "execute_result",
          "data": {
            "text/plain": [
              "<tf.Tensor: shape=(2,), dtype=int32, numpy=array([10,  7], dtype=int32)>"
            ]
          },
          "metadata": {
            "tags": []
          },
          "execution_count": 36
        }
      ]
    },
    {
      "cell_type": "code",
      "metadata": {
        "colab": {
          "base_uri": "https://localhost:8080/"
        },
        "id": "RCMZ1ur8ccxa",
        "outputId": "33d69c00-89aa-4779-f6e8-504bdfd20541"
      },
      "source": [
        "rank_2_tensor[:,0]"
      ],
      "execution_count": 37,
      "outputs": [
        {
          "output_type": "execute_result",
          "data": {
            "text/plain": [
              "<tf.Tensor: shape=(2,), dtype=int32, numpy=array([10,  3], dtype=int32)>"
            ]
          },
          "metadata": {
            "tags": []
          },
          "execution_count": 37
        }
      ]
    },
    {
      "cell_type": "code",
      "metadata": {
        "colab": {
          "base_uri": "https://localhost:8080/"
        },
        "id": "EtH_05a9ci2y",
        "outputId": "460fc1ac-8560-499d-d0cb-53a8550a0518"
      },
      "source": [
        "# Add an extra dimension (to the end)\n",
        "# ... means all dimensions prior to\n",
        "rank_3_tensor = rank_2_tensor[...,tf.newaxis]\n",
        "rank_2_tensor, rank_3_tensor"
      ],
      "execution_count": 38,
      "outputs": [
        {
          "output_type": "execute_result",
          "data": {
            "text/plain": [
              "(<tf.Tensor: shape=(2, 2), dtype=int32, numpy=\n",
              " array([[10,  7],\n",
              "        [ 3,  4]], dtype=int32)>,\n",
              " <tf.Tensor: shape=(2, 2, 1), dtype=int32, numpy=\n",
              " array([[[10],\n",
              "         [ 7]],\n",
              " \n",
              "        [[ 3],\n",
              "         [ 4]]], dtype=int32)>)"
            ]
          },
          "metadata": {
            "tags": []
          },
          "execution_count": 38
        }
      ]
    },
    {
      "cell_type": "code",
      "metadata": {
        "colab": {
          "base_uri": "https://localhost:8080/"
        },
        "id": "cFoXFBBRc3Wz",
        "outputId": "a73b9ef7-6587-484e-dd15-9953a4ea2a24"
      },
      "source": [
        "tf.expand_dims(rank_2_tensor, axis=-1)"
      ],
      "execution_count": 39,
      "outputs": [
        {
          "output_type": "execute_result",
          "data": {
            "text/plain": [
              "<tf.Tensor: shape=(2, 2, 1), dtype=int32, numpy=\n",
              "array([[[10],\n",
              "        [ 7]],\n",
              "\n",
              "       [[ 3],\n",
              "        [ 4]]], dtype=int32)>"
            ]
          },
          "metadata": {
            "tags": []
          },
          "execution_count": 39
        }
      ]
    },
    {
      "cell_type": "code",
      "metadata": {
        "colab": {
          "base_uri": "https://localhost:8080/"
        },
        "id": "Ns3I-FX-dCSV",
        "outputId": "8ae1a6cc-c189-4542-ba58-df4faf779686"
      },
      "source": [
        "tf.expand_dims(rank_2_tensor, axis=0)"
      ],
      "execution_count": 40,
      "outputs": [
        {
          "output_type": "execute_result",
          "data": {
            "text/plain": [
              "<tf.Tensor: shape=(1, 2, 2), dtype=int32, numpy=\n",
              "array([[[10,  7],\n",
              "        [ 3,  4]]], dtype=int32)>"
            ]
          },
          "metadata": {
            "tags": []
          },
          "execution_count": 40
        }
      ]
    },
    {
      "cell_type": "markdown",
      "metadata": {
        "id": "KgLO8H_FdI3P"
      },
      "source": [
        "## Manipulating tensors"
      ]
    },
    {
      "cell_type": "code",
      "metadata": {
        "colab": {
          "base_uri": "https://localhost:8080/"
        },
        "id": "HAbXfy9IdFUj",
        "outputId": "a928e0ad-4c28-4985-9a04-08d1284b432b"
      },
      "source": [
        "tensor = tf.constant([[10, 7], [3, 4]])\n",
        "tensor + 10, tensor * 10, tensor - 10"
      ],
      "execution_count": 41,
      "outputs": [
        {
          "output_type": "execute_result",
          "data": {
            "text/plain": [
              "(<tf.Tensor: shape=(2, 2), dtype=int32, numpy=\n",
              " array([[20, 17],\n",
              "        [13, 14]], dtype=int32)>, <tf.Tensor: shape=(2, 2), dtype=int32, numpy=\n",
              " array([[100,  70],\n",
              "        [ 30,  40]], dtype=int32)>, <tf.Tensor: shape=(2, 2), dtype=int32, numpy=\n",
              " array([[ 0, -3],\n",
              "        [-7, -6]], dtype=int32)>)"
            ]
          },
          "metadata": {
            "tags": []
          },
          "execution_count": 41
        }
      ]
    },
    {
      "cell_type": "code",
      "metadata": {
        "colab": {
          "base_uri": "https://localhost:8080/"
        },
        "id": "wLtycDDidYBt",
        "outputId": "26e6ae18-e9ab-4281-cc08-7416774fc42f"
      },
      "source": [
        "tf.math.add(tensor, 10)"
      ],
      "execution_count": 43,
      "outputs": [
        {
          "output_type": "execute_result",
          "data": {
            "text/plain": [
              "<tf.Tensor: shape=(2, 2), dtype=int32, numpy=\n",
              "array([[20, 17],\n",
              "       [13, 14]], dtype=int32)>"
            ]
          },
          "metadata": {
            "tags": []
          },
          "execution_count": 43
        }
      ]
    },
    {
      "cell_type": "code",
      "metadata": {
        "colab": {
          "base_uri": "https://localhost:8080/"
        },
        "id": "4jlWI1osdhZG",
        "outputId": "d59dd6b8-f58f-46f4-ad3d-4a10576578ba"
      },
      "source": [
        "tf.multiply(tensor, 10)"
      ],
      "execution_count": 44,
      "outputs": [
        {
          "output_type": "execute_result",
          "data": {
            "text/plain": [
              "<tf.Tensor: shape=(2, 2), dtype=int32, numpy=\n",
              "array([[100,  70],\n",
              "       [ 30,  40]], dtype=int32)>"
            ]
          },
          "metadata": {
            "tags": []
          },
          "execution_count": 44
        }
      ]
    },
    {
      "cell_type": "code",
      "metadata": {
        "colab": {
          "base_uri": "https://localhost:8080/"
        },
        "id": "yKoUVrKWdr6j",
        "outputId": "97e45ccd-6525-49c4-cee6-afdccf165aec"
      },
      "source": [
        "# matrix multiplication tf.matmul\n",
        "tf.matmul(tensor, tensor)"
      ],
      "execution_count": 45,
      "outputs": [
        {
          "output_type": "execute_result",
          "data": {
            "text/plain": [
              "<tf.Tensor: shape=(2, 2), dtype=int32, numpy=\n",
              "array([[121,  98],\n",
              "       [ 42,  37]], dtype=int32)>"
            ]
          },
          "metadata": {
            "tags": []
          },
          "execution_count": 45
        }
      ]
    },
    {
      "cell_type": "code",
      "metadata": {
        "colab": {
          "base_uri": "https://localhost:8080/"
        },
        "id": "EM2sTVMUd3rD",
        "outputId": "a4744a73-6bdf-4600-d210-4fe76842acb9"
      },
      "source": [
        "tensor @ tensor"
      ],
      "execution_count": 46,
      "outputs": [
        {
          "output_type": "execute_result",
          "data": {
            "text/plain": [
              "<tf.Tensor: shape=(2, 2), dtype=int32, numpy=\n",
              "array([[121,  98],\n",
              "       [ 42,  37]], dtype=int32)>"
            ]
          },
          "metadata": {
            "tags": []
          },
          "execution_count": 46
        }
      ]
    },
    {
      "cell_type": "code",
      "metadata": {
        "colab": {
          "base_uri": "https://localhost:8080/"
        },
        "id": "2XU9-pgId_JA",
        "outputId": "88a6686d-bca5-4c93-fb5b-f1ca8a08cd2b"
      },
      "source": [
        "X = tf.constant([[1, 2],\n",
        "                 [3, 4],\n",
        "                 [5, 6]])\n",
        "\n",
        "# Create another (3, 2) tensor\n",
        "Y = tf.constant([[7, 8],\n",
        "                 [9, 10],\n",
        "                 [11, 12]])\n",
        "X, Y"
      ],
      "execution_count": 47,
      "outputs": [
        {
          "output_type": "execute_result",
          "data": {
            "text/plain": [
              "(<tf.Tensor: shape=(3, 2), dtype=int32, numpy=\n",
              " array([[1, 2],\n",
              "        [3, 4],\n",
              "        [5, 6]], dtype=int32)>, <tf.Tensor: shape=(3, 2), dtype=int32, numpy=\n",
              " array([[ 7,  8],\n",
              "        [ 9, 10],\n",
              "        [11, 12]], dtype=int32)>)"
            ]
          },
          "metadata": {
            "tags": []
          },
          "execution_count": 47
        }
      ]
    },
    {
      "cell_type": "markdown",
      "metadata": {
        "id": "Lpf5mpa0eHy2"
      },
      "source": [
        "tf.reshape - allows us to reshape a tensor into defined shape\n",
        "\n",
        "tf.transpose - switches the dimensions of a given tensor"
      ]
    },
    {
      "cell_type": "code",
      "metadata": {
        "colab": {
          "base_uri": "https://localhost:8080/"
        },
        "id": "QiYLhOuIeFC_",
        "outputId": "f92579d4-de3f-4fc7-fc0a-dcb7fb3f4743"
      },
      "source": [
        "tf.reshape(Y, shape=(2,3))"
      ],
      "execution_count": 48,
      "outputs": [
        {
          "output_type": "execute_result",
          "data": {
            "text/plain": [
              "<tf.Tensor: shape=(2, 3), dtype=int32, numpy=\n",
              "array([[ 7,  8,  9],\n",
              "       [10, 11, 12]], dtype=int32)>"
            ]
          },
          "metadata": {
            "tags": []
          },
          "execution_count": 48
        }
      ]
    },
    {
      "cell_type": "code",
      "metadata": {
        "colab": {
          "base_uri": "https://localhost:8080/"
        },
        "id": "WhiaKx_teTSu",
        "outputId": "bcc20ace-af13-4482-9bfb-30dcd3ef7a8d"
      },
      "source": [
        "X @ tf.reshape(Y, shape=(2,3))"
      ],
      "execution_count": 49,
      "outputs": [
        {
          "output_type": "execute_result",
          "data": {
            "text/plain": [
              "<tf.Tensor: shape=(3, 3), dtype=int32, numpy=\n",
              "array([[ 27,  30,  33],\n",
              "       [ 61,  68,  75],\n",
              "       [ 95, 106, 117]], dtype=int32)>"
            ]
          },
          "metadata": {
            "tags": []
          },
          "execution_count": 49
        }
      ]
    },
    {
      "cell_type": "code",
      "metadata": {
        "colab": {
          "base_uri": "https://localhost:8080/"
        },
        "id": "fmSef1D9eXRt",
        "outputId": "b691339d-13ba-49f3-f9d6-d6d3d904a401"
      },
      "source": [
        "tf.transpose(X)"
      ],
      "execution_count": 51,
      "outputs": [
        {
          "output_type": "execute_result",
          "data": {
            "text/plain": [
              "<tf.Tensor: shape=(2, 3), dtype=int32, numpy=\n",
              "array([[1, 3, 5],\n",
              "       [2, 4, 6]], dtype=int32)>"
            ]
          },
          "metadata": {
            "tags": []
          },
          "execution_count": 51
        }
      ]
    },
    {
      "cell_type": "code",
      "metadata": {
        "colab": {
          "base_uri": "https://localhost:8080/"
        },
        "id": "Xw5zvzGeeZ4R",
        "outputId": "6ca5b8ac-eeb9-4401-c247-2c3fce8fba01"
      },
      "source": [
        "tf.matmul(tf.transpose(X), Y)"
      ],
      "execution_count": 52,
      "outputs": [
        {
          "output_type": "execute_result",
          "data": {
            "text/plain": [
              "<tf.Tensor: shape=(2, 2), dtype=int32, numpy=\n",
              "array([[ 89,  98],\n",
              "       [116, 128]], dtype=int32)>"
            ]
          },
          "metadata": {
            "tags": []
          },
          "execution_count": 52
        }
      ]
    },
    {
      "cell_type": "code",
      "metadata": {
        "colab": {
          "base_uri": "https://localhost:8080/"
        },
        "id": "ib7b8ZIKelW8",
        "outputId": "0f575c43-f2e0-4bfa-c7d0-57c09aeae22a"
      },
      "source": [
        "tf.matmul(a=X, b=Y, transpose_a=True, transpose_b=False)"
      ],
      "execution_count": 53,
      "outputs": [
        {
          "output_type": "execute_result",
          "data": {
            "text/plain": [
              "<tf.Tensor: shape=(2, 2), dtype=int32, numpy=\n",
              "array([[ 89,  98],\n",
              "       [116, 128]], dtype=int32)>"
            ]
          },
          "metadata": {
            "tags": []
          },
          "execution_count": 53
        }
      ]
    },
    {
      "cell_type": "code",
      "metadata": {
        "colab": {
          "base_uri": "https://localhost:8080/"
        },
        "id": "r_CboeL5esTz",
        "outputId": "09c0f280-3ffe-49ed-8dc0-9f04f4c2a65a"
      },
      "source": [
        "tf.tensordot(tf.transpose(X), Y, axes=1)"
      ],
      "execution_count": 56,
      "outputs": [
        {
          "output_type": "execute_result",
          "data": {
            "text/plain": [
              "<tf.Tensor: shape=(2, 2), dtype=int32, numpy=\n",
              "array([[ 89,  98],\n",
              "       [116, 128]], dtype=int32)>"
            ]
          },
          "metadata": {
            "tags": []
          },
          "execution_count": 56
        }
      ]
    },
    {
      "cell_type": "code",
      "metadata": {
        "colab": {
          "base_uri": "https://localhost:8080/"
        },
        "id": "XfObmu74e6oh",
        "outputId": "b9f84be5-55a1-40ce-c829-88c5a229ce97"
      },
      "source": [
        "tf.matmul(X, tf.transpose(Y)), tf.matmul(X, tf.reshape(Y, (2,3)))"
      ],
      "execution_count": 57,
      "outputs": [
        {
          "output_type": "execute_result",
          "data": {
            "text/plain": [
              "(<tf.Tensor: shape=(3, 3), dtype=int32, numpy=\n",
              " array([[ 23,  29,  35],\n",
              "        [ 53,  67,  81],\n",
              "        [ 83, 105, 127]], dtype=int32)>,\n",
              " <tf.Tensor: shape=(3, 3), dtype=int32, numpy=\n",
              " array([[ 27,  30,  33],\n",
              "        [ 61,  68,  75],\n",
              "        [ 95, 106, 117]], dtype=int32)>)"
            ]
          },
          "metadata": {
            "tags": []
          },
          "execution_count": 57
        }
      ]
    },
    {
      "cell_type": "code",
      "metadata": {
        "colab": {
          "base_uri": "https://localhost:8080/"
        },
        "id": "6jF_EJVcfSXR",
        "outputId": "40c39999-875f-40c3-89fa-14f6d4674f7a"
      },
      "source": [
        "Y, tf.reshape(Y, (2,3)), tf.transpose(Y)"
      ],
      "execution_count": 58,
      "outputs": [
        {
          "output_type": "execute_result",
          "data": {
            "text/plain": [
              "(<tf.Tensor: shape=(3, 2), dtype=int32, numpy=\n",
              " array([[ 7,  8],\n",
              "        [ 9, 10],\n",
              "        [11, 12]], dtype=int32)>, <tf.Tensor: shape=(2, 3), dtype=int32, numpy=\n",
              " array([[ 7,  8,  9],\n",
              "        [10, 11, 12]], dtype=int32)>, <tf.Tensor: shape=(2, 3), dtype=int32, numpy=\n",
              " array([[ 7,  9, 11],\n",
              "        [ 8, 10, 12]], dtype=int32)>)"
            ]
          },
          "metadata": {
            "tags": []
          },
          "execution_count": 58
        }
      ]
    },
    {
      "cell_type": "markdown",
      "metadata": {
        "id": "s1LvupSpfp5O"
      },
      "source": [
        "### Changing the datatype of tensor"
      ]
    },
    {
      "cell_type": "code",
      "metadata": {
        "colab": {
          "base_uri": "https://localhost:8080/"
        },
        "id": "8wMNKx6gfgPa",
        "outputId": "763bf7c2-9a01-4ca8-ef5a-9f72e87c9fc6"
      },
      "source": [
        "B = tf.constant([1.7,7.4])\n",
        "\n",
        "C = tf.constant([1, 7])\n",
        "\n",
        "B, C"
      ],
      "execution_count": 59,
      "outputs": [
        {
          "output_type": "execute_result",
          "data": {
            "text/plain": [
              "(<tf.Tensor: shape=(2,), dtype=float32, numpy=array([1.7, 7.4], dtype=float32)>,\n",
              " <tf.Tensor: shape=(2,), dtype=int32, numpy=array([1, 7], dtype=int32)>)"
            ]
          },
          "metadata": {
            "tags": []
          },
          "execution_count": 59
        }
      ]
    },
    {
      "cell_type": "code",
      "metadata": {
        "colab": {
          "base_uri": "https://localhost:8080/"
        },
        "id": "ZRiRFwfZf73-",
        "outputId": "9519e8c6-9029-4566-e224-02cf10247ad4"
      },
      "source": [
        "B = tf.cast(B, dtype=tf.float16)\n",
        "B"
      ],
      "execution_count": 60,
      "outputs": [
        {
          "output_type": "execute_result",
          "data": {
            "text/plain": [
              "<tf.Tensor: shape=(2,), dtype=float16, numpy=array([1.7, 7.4], dtype=float16)>"
            ]
          },
          "metadata": {
            "tags": []
          },
          "execution_count": 60
        }
      ]
    },
    {
      "cell_type": "code",
      "metadata": {
        "colab": {
          "base_uri": "https://localhost:8080/"
        },
        "id": "fi6AlICTgBQW",
        "outputId": "21760854-d2af-432b-aeeb-64aba7567d2a"
      },
      "source": [
        "C = tf.cast(C, dtype=tf.float32)\n",
        "C"
      ],
      "execution_count": 62,
      "outputs": [
        {
          "output_type": "execute_result",
          "data": {
            "text/plain": [
              "<tf.Tensor: shape=(2,), dtype=float32, numpy=array([1., 7.], dtype=float32)>"
            ]
          },
          "metadata": {
            "tags": []
          },
          "execution_count": 62
        }
      ]
    },
    {
      "cell_type": "markdown",
      "metadata": {
        "id": "-BvskuGMgXTa"
      },
      "source": [
        "### Absolute values"
      ]
    },
    {
      "cell_type": "code",
      "metadata": {
        "colab": {
          "base_uri": "https://localhost:8080/"
        },
        "id": "0AcrF7QrgHBG",
        "outputId": "996a5090-1b40-4422-ab1c-ae94ec44fb71"
      },
      "source": [
        "D = tf.constant([-7, -10])\n",
        "D"
      ],
      "execution_count": 63,
      "outputs": [
        {
          "output_type": "execute_result",
          "data": {
            "text/plain": [
              "<tf.Tensor: shape=(2,), dtype=int32, numpy=array([ -7, -10], dtype=int32)>"
            ]
          },
          "metadata": {
            "tags": []
          },
          "execution_count": 63
        }
      ]
    },
    {
      "cell_type": "code",
      "metadata": {
        "colab": {
          "base_uri": "https://localhost:8080/"
        },
        "id": "ggZvUiU1gS7d",
        "outputId": "b5e70a08-cfa9-4517-8eb6-3ca7d8f6d886"
      },
      "source": [
        "tf.abs(D)"
      ],
      "execution_count": 64,
      "outputs": [
        {
          "output_type": "execute_result",
          "data": {
            "text/plain": [
              "<tf.Tensor: shape=(2,), dtype=int32, numpy=array([ 7, 10], dtype=int32)>"
            ]
          },
          "metadata": {
            "tags": []
          },
          "execution_count": 64
        }
      ]
    },
    {
      "cell_type": "markdown",
      "metadata": {
        "id": "Ft2QNrdJgbKG"
      },
      "source": [
        "### Finding the min, max, mean, sum"
      ]
    },
    {
      "cell_type": "code",
      "metadata": {
        "colab": {
          "base_uri": "https://localhost:8080/"
        },
        "id": "n6BrVDOSgTzh",
        "outputId": "d82a615d-868b-4480-d4f8-a2ef400b0d4e"
      },
      "source": [
        "E = tf.constant(np.random.randint(low=0, high=100, size=50))\n",
        "E"
      ],
      "execution_count": 65,
      "outputs": [
        {
          "output_type": "execute_result",
          "data": {
            "text/plain": [
              "<tf.Tensor: shape=(50,), dtype=int64, numpy=\n",
              "array([70, 27, 23, 33, 92, 59, 92, 15, 71, 40, 78, 12, 65, 21, 47,  7, 93,\n",
              "        8, 20, 69, 24, 60,  8, 88, 91, 53,  2, 58,  6, 54,  7, 13, 65, 72,\n",
              "       80, 71, 54, 73, 12, 77, 72, 86, 25, 46, 83,  9, 75,  0, 38, 13])>"
            ]
          },
          "metadata": {
            "tags": []
          },
          "execution_count": 65
        }
      ]
    },
    {
      "cell_type": "code",
      "metadata": {
        "colab": {
          "base_uri": "https://localhost:8080/"
        },
        "id": "uwuKK7jyqOWw",
        "outputId": "2ebe2a98-d10d-4b86-de04-78ef75c1b5e8"
      },
      "source": [
        "tf.reduce_min(E)"
      ],
      "execution_count": 66,
      "outputs": [
        {
          "output_type": "execute_result",
          "data": {
            "text/plain": [
              "<tf.Tensor: shape=(), dtype=int64, numpy=0>"
            ]
          },
          "metadata": {
            "tags": []
          },
          "execution_count": 66
        }
      ]
    },
    {
      "cell_type": "code",
      "metadata": {
        "colab": {
          "base_uri": "https://localhost:8080/"
        },
        "id": "0XcEPGChqRBm",
        "outputId": "db2eab06-972f-4881-8f61-c0823125e6c6"
      },
      "source": [
        "tf.reduce_max(E)"
      ],
      "execution_count": 67,
      "outputs": [
        {
          "output_type": "execute_result",
          "data": {
            "text/plain": [
              "<tf.Tensor: shape=(), dtype=int64, numpy=93>"
            ]
          },
          "metadata": {
            "tags": []
          },
          "execution_count": 67
        }
      ]
    },
    {
      "cell_type": "code",
      "metadata": {
        "colab": {
          "base_uri": "https://localhost:8080/"
        },
        "id": "SyPxwg_JqUGF",
        "outputId": "8c13a54f-7b55-46b2-afd3-a7fb4c9f3bf8"
      },
      "source": [
        "tf.reduce_mean(E)"
      ],
      "execution_count": 68,
      "outputs": [
        {
          "output_type": "execute_result",
          "data": {
            "text/plain": [
              "<tf.Tensor: shape=(), dtype=int64, numpy=47>"
            ]
          },
          "metadata": {
            "tags": []
          },
          "execution_count": 68
        }
      ]
    },
    {
      "cell_type": "code",
      "metadata": {
        "colab": {
          "base_uri": "https://localhost:8080/"
        },
        "id": "bnf0KbpoqWQi",
        "outputId": "b03e1fe3-fb37-42f8-a76a-58e92a1c43da"
      },
      "source": [
        "tf.reduce_sum(E)"
      ],
      "execution_count": 69,
      "outputs": [
        {
          "output_type": "execute_result",
          "data": {
            "text/plain": [
              "<tf.Tensor: shape=(), dtype=int64, numpy=2357>"
            ]
          },
          "metadata": {
            "tags": []
          },
          "execution_count": 69
        }
      ]
    },
    {
      "cell_type": "code",
      "metadata": {
        "colab": {
          "base_uri": "https://localhost:8080/"
        },
        "id": "-OL0lKKsqZ5C",
        "outputId": "80f75076-9327-457d-926b-f022e41b36cf"
      },
      "source": [
        "Z = tf.cast(E, dtype=tf.float16)\n",
        "tf.math.reduce_std(Z)"
      ],
      "execution_count": 74,
      "outputs": [
        {
          "output_type": "execute_result",
          "data": {
            "text/plain": [
              "<tf.Tensor: shape=(), dtype=float16, numpy=29.92>"
            ]
          },
          "metadata": {
            "tags": []
          },
          "execution_count": 74
        }
      ]
    },
    {
      "cell_type": "code",
      "metadata": {
        "colab": {
          "base_uri": "https://localhost:8080/"
        },
        "id": "dqX9dALoqb5J",
        "outputId": "c1553af2-0279-4aac-ca8d-7ae1b590b827"
      },
      "source": [
        "tf.math.reduce_variance(Z)"
      ],
      "execution_count": 75,
      "outputs": [
        {
          "output_type": "execute_result",
          "data": {
            "text/plain": [
              "<tf.Tensor: shape=(), dtype=float16, numpy=895.5>"
            ]
          },
          "metadata": {
            "tags": []
          },
          "execution_count": 75
        }
      ]
    },
    {
      "cell_type": "code",
      "metadata": {
        "colab": {
          "base_uri": "https://localhost:8080/"
        },
        "id": "EdBDDb19qxdA",
        "outputId": "628d122f-e762-443a-e482-19451dbde060"
      },
      "source": [
        "F = tf.constant(np.random.random(50))\n",
        "F"
      ],
      "execution_count": 76,
      "outputs": [
        {
          "output_type": "execute_result",
          "data": {
            "text/plain": [
              "<tf.Tensor: shape=(50,), dtype=float64, numpy=\n",
              "array([0.39213323, 0.66244354, 0.82730395, 0.79680543, 0.19862137,\n",
              "       0.92242452, 0.83404422, 0.83590018, 0.82119568, 0.03916684,\n",
              "       0.02440617, 0.46728626, 0.10256014, 0.66698477, 0.19349752,\n",
              "       0.76179413, 0.04261229, 0.4287241 , 0.39281716, 0.0215317 ,\n",
              "       0.99050757, 0.39202897, 0.48109134, 0.61507659, 0.39689532,\n",
              "       0.77203505, 0.17587066, 0.08407491, 0.11028248, 0.29335055,\n",
              "       0.17656742, 0.6100726 , 0.99579464, 0.29066006, 0.79064254,\n",
              "       0.17168706, 0.43066684, 0.59746443, 0.51712391, 0.13447978,\n",
              "       0.60298507, 0.9096522 , 0.55791058, 0.23908183, 0.48071096,\n",
              "       0.56611648, 0.21171773, 0.17241744, 0.17408719, 0.22098793])>"
            ]
          },
          "metadata": {
            "tags": []
          },
          "execution_count": 76
        }
      ]
    },
    {
      "cell_type": "code",
      "metadata": {
        "colab": {
          "base_uri": "https://localhost:8080/"
        },
        "id": "vK9U7odQq_Qc",
        "outputId": "8af209ec-7be3-4d59-a560-5e7c3f7b4c65"
      },
      "source": [
        "tf.argmax(F)"
      ],
      "execution_count": 77,
      "outputs": [
        {
          "output_type": "execute_result",
          "data": {
            "text/plain": [
              "<tf.Tensor: shape=(), dtype=int64, numpy=32>"
            ]
          },
          "metadata": {
            "tags": []
          },
          "execution_count": 77
        }
      ]
    },
    {
      "cell_type": "code",
      "metadata": {
        "colab": {
          "base_uri": "https://localhost:8080/"
        },
        "id": "Kyjr6KLWrBQt",
        "outputId": "b24b0ac4-608d-4aab-fd9f-a891be9519ad"
      },
      "source": [
        "tf.argmin(F)"
      ],
      "execution_count": 78,
      "outputs": [
        {
          "output_type": "execute_result",
          "data": {
            "text/plain": [
              "<tf.Tensor: shape=(), dtype=int64, numpy=19>"
            ]
          },
          "metadata": {
            "tags": []
          },
          "execution_count": 78
        }
      ]
    },
    {
      "cell_type": "code",
      "metadata": {
        "colab": {
          "base_uri": "https://localhost:8080/"
        },
        "id": "srvsk_h3rEgj",
        "outputId": "b11ccc0b-5570-41d4-857e-61462a71a743"
      },
      "source": [
        "print(f\"The maximum value of F is at position: {tf.argmax(F).numpy()}\")\n",
        "print(f\"The maximum value of F is {tf.reduce_max(F).numpy()}\")\n",
        "print(f\"Using tf.argmax() to index F, the maximum value is {F[tf.argmax(F)].numpy()}\")\n",
        "print(f\"Are the two max values the same (they should be) {F[tf.argmax(F)].numpy() == tf.reduce_max(F).numpy()}\")"
      ],
      "execution_count": 81,
      "outputs": [
        {
          "output_type": "stream",
          "text": [
            "The maximum value of F is at position: 32\n",
            "The maximum value of F is 0.9957946429600089\n",
            "Using tf.argmax() to index F, the maximum value is 0.9957946429600089\n",
            "Are the two max values the same (they should be) True\n"
          ],
          "name": "stdout"
        }
      ]
    },
    {
      "cell_type": "markdown",
      "metadata": {
        "id": "i7oAj_uJr_hk"
      },
      "source": [
        "### Squeezing a tensor\n",
        "\n",
        "removing single-dimensions from a tensor"
      ]
    },
    {
      "cell_type": "code",
      "metadata": {
        "colab": {
          "base_uri": "https://localhost:8080/"
        },
        "id": "MrHcskhOr2jB",
        "outputId": "41dbab2c-3d8a-4cdd-c05b-b22145a29416"
      },
      "source": [
        "G = tf.constant(np.random.randint(0, 100, 50), shape=(1,1,1,1,50))\n",
        "G.shape, G.ndim"
      ],
      "execution_count": 83,
      "outputs": [
        {
          "output_type": "execute_result",
          "data": {
            "text/plain": [
              "(TensorShape([1, 1, 1, 1, 50]), 5)"
            ]
          },
          "metadata": {
            "tags": []
          },
          "execution_count": 83
        }
      ]
    },
    {
      "cell_type": "code",
      "metadata": {
        "colab": {
          "base_uri": "https://localhost:8080/"
        },
        "id": "P47-3MvssQ_X",
        "outputId": "476df029-7de9-4026-fc79-ac05c8eaa723"
      },
      "source": [
        "G_squeezed = tf.squeeze(G)\n",
        "G_squeezed.shape, G_squeezed.ndim"
      ],
      "execution_count": 84,
      "outputs": [
        {
          "output_type": "execute_result",
          "data": {
            "text/plain": [
              "(TensorShape([50]), 1)"
            ]
          },
          "metadata": {
            "tags": []
          },
          "execution_count": 84
        }
      ]
    },
    {
      "cell_type": "markdown",
      "metadata": {
        "id": "UOYg9dCOsbbS"
      },
      "source": [
        "### One-hot encoding"
      ]
    },
    {
      "cell_type": "code",
      "metadata": {
        "colab": {
          "base_uri": "https://localhost:8080/"
        },
        "id": "YEuMGSgDsZtp",
        "outputId": "50e51d59-af0b-49a7-f06f-9fe9d05f6ca2"
      },
      "source": [
        "some_list = [0, 1, 2, 3]\n",
        "tf.one_hot(some_list, depth=4)"
      ],
      "execution_count": 85,
      "outputs": [
        {
          "output_type": "execute_result",
          "data": {
            "text/plain": [
              "<tf.Tensor: shape=(4, 4), dtype=float32, numpy=\n",
              "array([[1., 0., 0., 0.],\n",
              "       [0., 1., 0., 0.],\n",
              "       [0., 0., 1., 0.],\n",
              "       [0., 0., 0., 1.]], dtype=float32)>"
            ]
          },
          "metadata": {
            "tags": []
          },
          "execution_count": 85
        }
      ]
    },
    {
      "cell_type": "code",
      "metadata": {
        "colab": {
          "base_uri": "https://localhost:8080/"
        },
        "id": "pGYN6uruslX5",
        "outputId": "e525a5ca-de27-40c5-ed16-b6b10d73d2cb"
      },
      "source": [
        "tf.one_hot(some_list, depth=4, on_value=\"We're live!\", off_value=\"Offline\")"
      ],
      "execution_count": 86,
      "outputs": [
        {
          "output_type": "execute_result",
          "data": {
            "text/plain": [
              "<tf.Tensor: shape=(4, 4), dtype=string, numpy=\n",
              "array([[b\"We're live!\", b'Offline', b'Offline', b'Offline'],\n",
              "       [b'Offline', b\"We're live!\", b'Offline', b'Offline'],\n",
              "       [b'Offline', b'Offline', b\"We're live!\", b'Offline'],\n",
              "       [b'Offline', b'Offline', b'Offline', b\"We're live!\"]], dtype=object)>"
            ]
          },
          "metadata": {
            "tags": []
          },
          "execution_count": 86
        }
      ]
    },
    {
      "cell_type": "markdown",
      "metadata": {
        "id": "S_DiVZCAsy-L"
      },
      "source": [
        "### Squaring, log, squere root"
      ]
    },
    {
      "cell_type": "code",
      "metadata": {
        "colab": {
          "base_uri": "https://localhost:8080/"
        },
        "id": "EogKqQqJswb3",
        "outputId": "c8ffd301-ee45-415e-ae6f-366768d77e2c"
      },
      "source": [
        "H = tf.constant(np.arange(1,10))\n",
        "H"
      ],
      "execution_count": 87,
      "outputs": [
        {
          "output_type": "execute_result",
          "data": {
            "text/plain": [
              "<tf.Tensor: shape=(9,), dtype=int64, numpy=array([1, 2, 3, 4, 5, 6, 7, 8, 9])>"
            ]
          },
          "metadata": {
            "tags": []
          },
          "execution_count": 87
        }
      ]
    },
    {
      "cell_type": "code",
      "metadata": {
        "colab": {
          "base_uri": "https://localhost:8080/"
        },
        "id": "sqgfBcSss63D",
        "outputId": "b7bc7648-544d-4688-ba91-8f2606096d44"
      },
      "source": [
        "tf.square(H)"
      ],
      "execution_count": 88,
      "outputs": [
        {
          "output_type": "execute_result",
          "data": {
            "text/plain": [
              "<tf.Tensor: shape=(9,), dtype=int64, numpy=array([ 1,  4,  9, 16, 25, 36, 49, 64, 81])>"
            ]
          },
          "metadata": {
            "tags": []
          },
          "execution_count": 88
        }
      ]
    },
    {
      "cell_type": "code",
      "metadata": {
        "colab": {
          "base_uri": "https://localhost:8080/"
        },
        "id": "_Ar9si53s9A2",
        "outputId": "18c65879-ca4e-4fb4-9eef-83effb354394"
      },
      "source": [
        "#needs to be non integer\n",
        "H = tf.cast(H, dtype=tf.float32)\n",
        "tf.sqrt(H)"
      ],
      "execution_count": 91,
      "outputs": [
        {
          "output_type": "execute_result",
          "data": {
            "text/plain": [
              "<tf.Tensor: shape=(9,), dtype=float32, numpy=\n",
              "array([0.99999994, 1.4142134 , 1.7320508 , 1.9999999 , 2.236068  ,\n",
              "       2.4494896 , 2.6457512 , 2.8284268 , 3.        ], dtype=float32)>"
            ]
          },
          "metadata": {
            "tags": []
          },
          "execution_count": 91
        }
      ]
    },
    {
      "cell_type": "code",
      "metadata": {
        "colab": {
          "base_uri": "https://localhost:8080/"
        },
        "id": "ebkgACY0s_E5",
        "outputId": "cc4c8e40-37c2-4e01-880d-e567ff641a71"
      },
      "source": [
        "# needs to be float\n",
        "tf.math.log(H)"
      ],
      "execution_count": 92,
      "outputs": [
        {
          "output_type": "execute_result",
          "data": {
            "text/plain": [
              "<tf.Tensor: shape=(9,), dtype=float32, numpy=\n",
              "array([0.       , 0.6931472, 1.0986123, 1.3862944, 1.609438 , 1.7917595,\n",
              "       1.9459102, 2.0794415, 2.1972246], dtype=float32)>"
            ]
          },
          "metadata": {
            "tags": []
          },
          "execution_count": 92
        }
      ]
    },
    {
      "cell_type": "markdown",
      "metadata": {
        "id": "Rem6L-T8tUJ4"
      },
      "source": [
        "### Manipulating tf.Variable tensor\n",
        "\n",
        "assign()     - assign a different value to a particular index of a variable\n",
        "\n",
        "add_assign() - add to an existing value and reassign it at a particular index of a tensor"
      ]
    },
    {
      "cell_type": "code",
      "metadata": {
        "colab": {
          "base_uri": "https://localhost:8080/"
        },
        "id": "zXUHGiExtRB8",
        "outputId": "43d6dde1-112f-44d1-ddc9-c94cc1766e04"
      },
      "source": [
        "I = tf.Variable(np.arange(0,5))\n",
        "I"
      ],
      "execution_count": 94,
      "outputs": [
        {
          "output_type": "execute_result",
          "data": {
            "text/plain": [
              "<tf.Variable 'Variable:0' shape=(5,) dtype=int64, numpy=array([0, 1, 2, 3, 4])>"
            ]
          },
          "metadata": {
            "tags": []
          },
          "execution_count": 94
        }
      ]
    },
    {
      "cell_type": "code",
      "metadata": {
        "colab": {
          "base_uri": "https://localhost:8080/"
        },
        "id": "YTGAbqVAtoyv",
        "outputId": "89483ebf-227f-4748-9870-c0062076e994"
      },
      "source": [
        "I.assign([0,1,2,3,50])"
      ],
      "execution_count": 95,
      "outputs": [
        {
          "output_type": "execute_result",
          "data": {
            "text/plain": [
              "<tf.Variable 'UnreadVariable' shape=(5,) dtype=int64, numpy=array([ 0,  1,  2,  3, 50])>"
            ]
          },
          "metadata": {
            "tags": []
          },
          "execution_count": 95
        }
      ]
    },
    {
      "cell_type": "code",
      "metadata": {
        "colab": {
          "base_uri": "https://localhost:8080/"
        },
        "id": "UmbhYg8DttY8",
        "outputId": "42c1ab2f-b2b1-4ab9-e137-398afed28510"
      },
      "source": [
        "I"
      ],
      "execution_count": 96,
      "outputs": [
        {
          "output_type": "execute_result",
          "data": {
            "text/plain": [
              "<tf.Variable 'Variable:0' shape=(5,) dtype=int64, numpy=array([ 0,  1,  2,  3, 50])>"
            ]
          },
          "metadata": {
            "tags": []
          },
          "execution_count": 96
        }
      ]
    },
    {
      "cell_type": "code",
      "metadata": {
        "colab": {
          "base_uri": "https://localhost:8080/"
        },
        "id": "7ZiTZ79JtvqH",
        "outputId": "d96740ac-1861-43d6-d5af-117603eab2d7"
      },
      "source": [
        "I.assign_add([10,10,10,10,10])"
      ],
      "execution_count": 97,
      "outputs": [
        {
          "output_type": "execute_result",
          "data": {
            "text/plain": [
              "<tf.Variable 'UnreadVariable' shape=(5,) dtype=int64, numpy=array([10, 11, 12, 13, 60])>"
            ]
          },
          "metadata": {
            "tags": []
          },
          "execution_count": 97
        }
      ]
    },
    {
      "cell_type": "code",
      "metadata": {
        "colab": {
          "base_uri": "https://localhost:8080/"
        },
        "id": "aApVCxhmt0o2",
        "outputId": "0fab5832-278e-4096-e96d-2947a0fc34cb"
      },
      "source": [
        "I"
      ],
      "execution_count": 98,
      "outputs": [
        {
          "output_type": "execute_result",
          "data": {
            "text/plain": [
              "<tf.Variable 'Variable:0' shape=(5,) dtype=int64, numpy=array([10, 11, 12, 13, 60])>"
            ]
          },
          "metadata": {
            "tags": []
          },
          "execution_count": 98
        }
      ]
    },
    {
      "cell_type": "markdown",
      "metadata": {
        "id": "7jXZVU2FuIM8"
      },
      "source": [
        "## Tensors and Numpy\n",
        "\n",
        "np.array(tensor) and tensor.numpy() are valid expressions to switch between numpy array and tensor"
      ]
    },
    {
      "cell_type": "code",
      "metadata": {
        "colab": {
          "base_uri": "https://localhost:8080/"
        },
        "id": "4aYPo6uJt1Iz",
        "outputId": "fd0da932-d478-4a98-ff50-ed1bd26c9865"
      },
      "source": [
        "J = tf.constant(np.array([3.,7.,10.]))\n",
        "J"
      ],
      "execution_count": 99,
      "outputs": [
        {
          "output_type": "execute_result",
          "data": {
            "text/plain": [
              "<tf.Tensor: shape=(3,), dtype=float64, numpy=array([ 3.,  7., 10.])>"
            ]
          },
          "metadata": {
            "tags": []
          },
          "execution_count": 99
        }
      ]
    },
    {
      "cell_type": "code",
      "metadata": {
        "colab": {
          "base_uri": "https://localhost:8080/"
        },
        "id": "ZnpR06dVuaGW",
        "outputId": "fa8745b5-f8a7-4258-b7de-6386a7c0368b"
      },
      "source": [
        "np.array(J), type(np.array(J))"
      ],
      "execution_count": 100,
      "outputs": [
        {
          "output_type": "execute_result",
          "data": {
            "text/plain": [
              "(array([ 3.,  7., 10.]), numpy.ndarray)"
            ]
          },
          "metadata": {
            "tags": []
          },
          "execution_count": 100
        }
      ]
    },
    {
      "cell_type": "code",
      "metadata": {
        "colab": {
          "base_uri": "https://localhost:8080/"
        },
        "id": "i1BULsSKue0Z",
        "outputId": "bdbe2eac-6221-48a5-acba-f33ed652b058"
      },
      "source": [
        "J.numpy(), type(J.numpy())"
      ],
      "execution_count": 101,
      "outputs": [
        {
          "output_type": "execute_result",
          "data": {
            "text/plain": [
              "(array([ 3.,  7., 10.]), numpy.ndarray)"
            ]
          },
          "metadata": {
            "tags": []
          },
          "execution_count": 101
        }
      ]
    },
    {
      "cell_type": "code",
      "metadata": {
        "colab": {
          "base_uri": "https://localhost:8080/"
        },
        "id": "d52haUDiujM3",
        "outputId": "80c0b468-fdcd-43ca-9929-3cd2820d776c"
      },
      "source": [
        "numpy_J = tf.constant(np.array([3.,7.,10.]))\n",
        "tensor_J = tf.constant([3.,7.,10.])\n",
        "\n",
        "numpy_J.dtype, tensor_J.dtype"
      ],
      "execution_count": 103,
      "outputs": [
        {
          "output_type": "execute_result",
          "data": {
            "text/plain": [
              "(tf.float64, tf.float32)"
            ]
          },
          "metadata": {
            "tags": []
          },
          "execution_count": 103
        }
      ]
    },
    {
      "cell_type": "markdown",
      "metadata": {
        "id": "CiGe1Yqwu1Sr"
      },
      "source": [
        "## Using @tf.function"
      ]
    },
    {
      "cell_type": "code",
      "metadata": {
        "colab": {
          "base_uri": "https://localhost:8080/"
        },
        "id": "rQkplYv8uxle",
        "outputId": "bff49a66-096e-461e-acce-a7eba8bdfbac"
      },
      "source": [
        "# creating simple function\n",
        "def f(x,y):\n",
        "  return x ** 2 + y\n",
        "\n",
        "x = tf.constant(np.arange(0,10))\n",
        "y = tf.constant(np.arange(10,20))\n",
        "\n",
        "f(x,y)"
      ],
      "execution_count": 104,
      "outputs": [
        {
          "output_type": "execute_result",
          "data": {
            "text/plain": [
              "<tf.Tensor: shape=(10,), dtype=int64, numpy=array([ 10,  12,  16,  22,  30,  40,  52,  66,  82, 100])>"
            ]
          },
          "metadata": {
            "tags": []
          },
          "execution_count": 104
        }
      ]
    },
    {
      "cell_type": "code",
      "metadata": {
        "colab": {
          "base_uri": "https://localhost:8080/"
        },
        "id": "YNTgo74TvOqG",
        "outputId": "e3e0d290-d868-4121-b143-d02b4a9142fb"
      },
      "source": [
        "# Create the same function and decore it with tf.function\n",
        "# tf will tru to convert it into a faster version by making it part of computation graph\n",
        "@tf.function\n",
        "def tf_f(x,y):\n",
        "  return x ** 2 + y\n",
        "\n",
        "tf_f(x,y)"
      ],
      "execution_count": 105,
      "outputs": [
        {
          "output_type": "execute_result",
          "data": {
            "text/plain": [
              "<tf.Tensor: shape=(10,), dtype=int64, numpy=array([ 10,  12,  16,  22,  30,  40,  52,  66,  82, 100])>"
            ]
          },
          "metadata": {
            "tags": []
          },
          "execution_count": 105
        }
      ]
    },
    {
      "cell_type": "markdown",
      "metadata": {
        "id": "8xV6-B56vstN"
      },
      "source": [
        "## Finding access to GPUs"
      ]
    },
    {
      "cell_type": "code",
      "metadata": {
        "colab": {
          "base_uri": "https://localhost:8080/"
        },
        "id": "76bUh41FvoAm",
        "outputId": "664815f9-1e68-44bc-d1ec-3ee181bedad0"
      },
      "source": [
        "print(tf.config.list_physical_devices('GPU'))"
      ],
      "execution_count": 107,
      "outputs": [
        {
          "output_type": "stream",
          "text": [
            "[]\n"
          ],
          "name": "stdout"
        }
      ]
    },
    {
      "cell_type": "code",
      "metadata": {
        "colab": {
          "base_uri": "https://localhost:8080/"
        },
        "id": "Gi8zCuM6vyur",
        "outputId": "2262a2d1-0b54-4e86-cdf0-b54a00f5125b"
      },
      "source": [
        "!nvidia-smi"
      ],
      "execution_count": 108,
      "outputs": [
        {
          "output_type": "stream",
          "text": [
            "NVIDIA-SMI has failed because it couldn't communicate with the NVIDIA driver. Make sure that the latest NVIDIA driver is installed and running.\n",
            "\n"
          ],
          "name": "stdout"
        }
      ]
    },
    {
      "cell_type": "markdown",
      "metadata": {
        "id": "_dkxPDDlv84L"
      },
      "source": [
        "# Exercises\n",
        "\n",
        "-Create a vector, scalar, matrix and tensor with values of your choosing using tf.constant().\n",
        "\n",
        "-Find the shape, rank and size of the tensors you created in 1.\n",
        "\n",
        "-Create two tensors containing random values between 0 and 1 with shape [5, 300].\n",
        "\n",
        "-Multiply the two tensors you created in 3 using matrix multiplication.\n",
        "\n",
        "-Multiply the two tensors you created in 3 using dot product.\n",
        "\n",
        "-Create a tensor with random values between 0 and 1 with shape [224, 224, 3].\n",
        "\n",
        "-Find the min and max values of the tensor you created in 6.\n",
        "\n",
        "-Created a tensor with random values of shape [1, 224, 224, 3] then squeeze it to change the shape to [224, 224, 3].\n",
        "\n",
        "-Create a tensor with shape [10] using your own choice of values, then find the index which has the maximum value.\n",
        "\n",
        "-One-hot encode the tensor you created in 9."
      ]
    },
    {
      "cell_type": "markdown",
      "metadata": {
        "id": "eUlBhjMmwpGV"
      },
      "source": [
        "## 1"
      ]
    },
    {
      "cell_type": "code",
      "metadata": {
        "id": "gWRSJMu8v3gH"
      },
      "source": [
        "scalar = tf.constant(7)\n",
        "vector = tf.constant([1,2,3,4,5])\n",
        "matrix = tf.constant([[1,2,3],[1,2,3]])\n",
        "tensor = tf.constant([[1,2,3],[1,2,3],[1,2,3]])"
      ],
      "execution_count": 141,
      "outputs": []
    },
    {
      "cell_type": "code",
      "metadata": {
        "colab": {
          "base_uri": "https://localhost:8080/"
        },
        "id": "TYAZjFkrwibT",
        "outputId": "785b966c-8328-48a7-9d30-e13aa21d805c"
      },
      "source": [
        "scalar, vector, matrix, tensor"
      ],
      "execution_count": 142,
      "outputs": [
        {
          "output_type": "execute_result",
          "data": {
            "text/plain": [
              "(<tf.Tensor: shape=(), dtype=int32, numpy=7>,\n",
              " <tf.Tensor: shape=(5,), dtype=int32, numpy=array([1, 2, 3, 4, 5], dtype=int32)>,\n",
              " <tf.Tensor: shape=(2, 3), dtype=int32, numpy=\n",
              " array([[1, 2, 3],\n",
              "        [1, 2, 3]], dtype=int32)>,\n",
              " <tf.Tensor: shape=(3, 3), dtype=int32, numpy=\n",
              " array([[1, 2, 3],\n",
              "        [1, 2, 3],\n",
              "        [1, 2, 3]], dtype=int32)>)"
            ]
          },
          "metadata": {
            "tags": []
          },
          "execution_count": 142
        }
      ]
    },
    {
      "cell_type": "markdown",
      "metadata": {
        "id": "ut7MShjhwv4M"
      },
      "source": [
        "## 2"
      ]
    },
    {
      "cell_type": "code",
      "metadata": {
        "colab": {
          "base_uri": "https://localhost:8080/"
        },
        "id": "hLetVm1Lwstx",
        "outputId": "0c56ae0c-2caf-461f-985d-999757376b42"
      },
      "source": [
        "tensor.shape, tf.rank(tensor), tf.size(tensor)"
      ],
      "execution_count": 143,
      "outputs": [
        {
          "output_type": "execute_result",
          "data": {
            "text/plain": [
              "(TensorShape([3, 3]),\n",
              " <tf.Tensor: shape=(), dtype=int32, numpy=2>,\n",
              " <tf.Tensor: shape=(), dtype=int32, numpy=9>)"
            ]
          },
          "metadata": {
            "tags": []
          },
          "execution_count": 143
        }
      ]
    },
    {
      "cell_type": "markdown",
      "metadata": {
        "id": "qyvC7je7xC7-"
      },
      "source": [
        "## 3"
      ]
    },
    {
      "cell_type": "code",
      "metadata": {
        "id": "ZymXcOAnw1q5"
      },
      "source": [
        "tensor_one = tf.constant(np.random.rand(5,300))\n",
        "tensor_two = tf.constant(np.random.rand(5,300))"
      ],
      "execution_count": 115,
      "outputs": []
    },
    {
      "cell_type": "code",
      "metadata": {
        "colab": {
          "base_uri": "https://localhost:8080/"
        },
        "id": "ZXbHLsPfxXAW",
        "outputId": "27ebac34-3cab-4440-cfae-788157c90c68"
      },
      "source": [
        "tensor_one.shape, tensor_two.shape"
      ],
      "execution_count": 116,
      "outputs": [
        {
          "output_type": "execute_result",
          "data": {
            "text/plain": [
              "(TensorShape([5, 300]), TensorShape([5, 300]))"
            ]
          },
          "metadata": {
            "tags": []
          },
          "execution_count": 116
        }
      ]
    },
    {
      "cell_type": "markdown",
      "metadata": {
        "id": "8U4K3mpLxdmG"
      },
      "source": [
        "## 4"
      ]
    },
    {
      "cell_type": "code",
      "metadata": {
        "colab": {
          "base_uri": "https://localhost:8080/"
        },
        "id": "r7_Bna3yxZnM",
        "outputId": "bba968d0-74c6-44a6-90ca-9583edcbf066"
      },
      "source": [
        "tf.matmul(tensor_one, tf.transpose(tensor_two))"
      ],
      "execution_count": 117,
      "outputs": [
        {
          "output_type": "execute_result",
          "data": {
            "text/plain": [
              "<tf.Tensor: shape=(5, 5), dtype=float64, numpy=\n",
              "array([[75.0484178 , 75.0680739 , 76.6339016 , 78.701281  , 77.00747152],\n",
              "       [73.00213106, 70.13234307, 70.99892083, 73.19960872, 71.28377251],\n",
              "       [73.49832718, 71.71185672, 80.12794182, 74.25410496, 76.43754472],\n",
              "       [77.96081697, 79.62694742, 76.12522885, 80.09394356, 81.97967505],\n",
              "       [80.5527766 , 77.57436696, 82.24974354, 83.87080404, 81.33149455]])>"
            ]
          },
          "metadata": {
            "tags": []
          },
          "execution_count": 117
        }
      ]
    },
    {
      "cell_type": "markdown",
      "metadata": {
        "id": "DpXLegCux7H0"
      },
      "source": [
        "## 5"
      ]
    },
    {
      "cell_type": "code",
      "metadata": {
        "colab": {
          "base_uri": "https://localhost:8080/"
        },
        "id": "2SfR4flzxjE-",
        "outputId": "d19a45ce-b084-4dda-ea0e-80b272152ade"
      },
      "source": [
        "tf.tensordot(tensor_one, tf.transpose(tensor_two), axes=1)"
      ],
      "execution_count": 121,
      "outputs": [
        {
          "output_type": "execute_result",
          "data": {
            "text/plain": [
              "<tf.Tensor: shape=(5, 5), dtype=float64, numpy=\n",
              "array([[75.0484178 , 75.0680739 , 76.6339016 , 78.701281  , 77.00747152],\n",
              "       [73.00213106, 70.13234307, 70.99892083, 73.19960872, 71.28377251],\n",
              "       [73.49832718, 71.71185672, 80.12794182, 74.25410496, 76.43754472],\n",
              "       [77.96081697, 79.62694742, 76.12522885, 80.09394356, 81.97967505],\n",
              "       [80.5527766 , 77.57436696, 82.24974354, 83.87080404, 81.33149455]])>"
            ]
          },
          "metadata": {
            "tags": []
          },
          "execution_count": 121
        }
      ]
    },
    {
      "cell_type": "markdown",
      "metadata": {
        "id": "-LOPqQiFx4g6"
      },
      "source": [
        "## 6"
      ]
    },
    {
      "cell_type": "code",
      "metadata": {
        "colab": {
          "base_uri": "https://localhost:8080/"
        },
        "id": "ecz7BcCcxsev",
        "outputId": "64eb5ffa-63d9-4813-b2ed-4c67dba181a9"
      },
      "source": [
        "tensor_three = tf.constant(np.random.rand(224,224,3))\n",
        "tensor_three.shape"
      ],
      "execution_count": 126,
      "outputs": [
        {
          "output_type": "execute_result",
          "data": {
            "text/plain": [
              "TensorShape([224, 224, 3])"
            ]
          },
          "metadata": {
            "tags": []
          },
          "execution_count": 126
        }
      ]
    },
    {
      "cell_type": "markdown",
      "metadata": {
        "id": "N9BWnS3MyS1L"
      },
      "source": [
        "## 7"
      ]
    },
    {
      "cell_type": "code",
      "metadata": {
        "colab": {
          "base_uri": "https://localhost:8080/"
        },
        "id": "O3N_oKEjyQvL",
        "outputId": "4cfb5d8c-1689-4d7c-87f2-fb050cf6fa71"
      },
      "source": [
        "tf.reduce_min(tensor_three).numpy(), tf.reduce_max(tensor_three).numpy()"
      ],
      "execution_count": 127,
      "outputs": [
        {
          "output_type": "execute_result",
          "data": {
            "text/plain": [
              "(1.250064639135573e-06, 0.9999974789174587)"
            ]
          },
          "metadata": {
            "tags": []
          },
          "execution_count": 127
        }
      ]
    },
    {
      "cell_type": "markdown",
      "metadata": {
        "id": "1jKF2ZulymVO"
      },
      "source": [
        "## 8"
      ]
    },
    {
      "cell_type": "code",
      "metadata": {
        "colab": {
          "base_uri": "https://localhost:8080/"
        },
        "id": "zODIuQeLycag",
        "outputId": "d5a2daef-08a9-4304-8c55-1ba7aff23181"
      },
      "source": [
        "tensor_four = tf.constant(np.random.rand(1,224,224,3))\n",
        "tensor_four, tensor_four.shape"
      ],
      "execution_count": 133,
      "outputs": [
        {
          "output_type": "execute_result",
          "data": {
            "text/plain": [
              "(<tf.Tensor: shape=(1, 224, 224, 3), dtype=float64, numpy=\n",
              " array([[[[0.62858045, 0.86033878, 0.93924364],\n",
              "          [0.79044621, 0.86030335, 0.84063256],\n",
              "          [0.34138029, 0.99171688, 0.0690341 ],\n",
              "          ...,\n",
              "          [0.03946301, 0.04218008, 0.88561419],\n",
              "          [0.00448878, 0.38101109, 0.1757498 ],\n",
              "          [0.08979944, 0.38992136, 0.19356024]],\n",
              " \n",
              "         [[0.48381937, 0.14948494, 0.33216822],\n",
              "          [0.15719836, 0.13189074, 0.70261196],\n",
              "          [0.6609272 , 0.19743275, 0.13673542],\n",
              "          ...,\n",
              "          [0.5036607 , 0.93992472, 0.59673213],\n",
              "          [0.66205544, 0.51703624, 0.36447272],\n",
              "          [0.26966678, 0.79761758, 0.26763432]],\n",
              " \n",
              "         [[0.95296647, 0.52597607, 0.38903091],\n",
              "          [0.7707324 , 0.60313478, 0.91234027],\n",
              "          [0.4883951 , 0.51085116, 0.29344977],\n",
              "          ...,\n",
              "          [0.95261691, 0.37849286, 0.99582889],\n",
              "          [0.24003538, 0.62608524, 0.04961063],\n",
              "          [0.15814415, 0.25979433, 0.76163554]],\n",
              " \n",
              "         ...,\n",
              " \n",
              "         [[0.41398141, 0.31440097, 0.30902231],\n",
              "          [0.22446015, 0.84979858, 0.4059364 ],\n",
              "          [0.2447335 , 0.28272551, 0.84994473],\n",
              "          ...,\n",
              "          [0.48085717, 0.28850151, 0.03738303],\n",
              "          [0.97426519, 0.35165208, 0.63239011],\n",
              "          [0.78655304, 0.31632183, 0.46234618]],\n",
              " \n",
              "         [[0.3138495 , 0.17429234, 0.55764822],\n",
              "          [0.32716405, 0.06581517, 0.95301869],\n",
              "          [0.77144526, 0.37230362, 0.60133876],\n",
              "          ...,\n",
              "          [0.0088404 , 0.69156029, 0.3585671 ],\n",
              "          [0.93072683, 0.1219602 , 0.37430575],\n",
              "          [0.97336173, 0.96075597, 0.8643694 ]],\n",
              " \n",
              "         [[0.81677004, 0.36904676, 0.64910458],\n",
              "          [0.98745053, 0.40116011, 0.52145177],\n",
              "          [0.78767261, 0.67274007, 0.80162023],\n",
              "          ...,\n",
              "          [0.41864838, 0.45858794, 0.32137032],\n",
              "          [0.25567377, 0.13088965, 0.22090265],\n",
              "          [0.23935042, 0.27667789, 0.72653929]]]])>,\n",
              " TensorShape([1, 224, 224, 3]))"
            ]
          },
          "metadata": {
            "tags": []
          },
          "execution_count": 133
        }
      ]
    },
    {
      "cell_type": "code",
      "metadata": {
        "colab": {
          "base_uri": "https://localhost:8080/"
        },
        "id": "5eMeUzLcyzH7",
        "outputId": "4a9aa7f6-e777-40a1-f27c-f0efe574ffaf"
      },
      "source": [
        "tf.squeeze(tensor_four)"
      ],
      "execution_count": 134,
      "outputs": [
        {
          "output_type": "execute_result",
          "data": {
            "text/plain": [
              "<tf.Tensor: shape=(224, 224, 3), dtype=float64, numpy=\n",
              "array([[[0.62858045, 0.86033878, 0.93924364],\n",
              "        [0.79044621, 0.86030335, 0.84063256],\n",
              "        [0.34138029, 0.99171688, 0.0690341 ],\n",
              "        ...,\n",
              "        [0.03946301, 0.04218008, 0.88561419],\n",
              "        [0.00448878, 0.38101109, 0.1757498 ],\n",
              "        [0.08979944, 0.38992136, 0.19356024]],\n",
              "\n",
              "       [[0.48381937, 0.14948494, 0.33216822],\n",
              "        [0.15719836, 0.13189074, 0.70261196],\n",
              "        [0.6609272 , 0.19743275, 0.13673542],\n",
              "        ...,\n",
              "        [0.5036607 , 0.93992472, 0.59673213],\n",
              "        [0.66205544, 0.51703624, 0.36447272],\n",
              "        [0.26966678, 0.79761758, 0.26763432]],\n",
              "\n",
              "       [[0.95296647, 0.52597607, 0.38903091],\n",
              "        [0.7707324 , 0.60313478, 0.91234027],\n",
              "        [0.4883951 , 0.51085116, 0.29344977],\n",
              "        ...,\n",
              "        [0.95261691, 0.37849286, 0.99582889],\n",
              "        [0.24003538, 0.62608524, 0.04961063],\n",
              "        [0.15814415, 0.25979433, 0.76163554]],\n",
              "\n",
              "       ...,\n",
              "\n",
              "       [[0.41398141, 0.31440097, 0.30902231],\n",
              "        [0.22446015, 0.84979858, 0.4059364 ],\n",
              "        [0.2447335 , 0.28272551, 0.84994473],\n",
              "        ...,\n",
              "        [0.48085717, 0.28850151, 0.03738303],\n",
              "        [0.97426519, 0.35165208, 0.63239011],\n",
              "        [0.78655304, 0.31632183, 0.46234618]],\n",
              "\n",
              "       [[0.3138495 , 0.17429234, 0.55764822],\n",
              "        [0.32716405, 0.06581517, 0.95301869],\n",
              "        [0.77144526, 0.37230362, 0.60133876],\n",
              "        ...,\n",
              "        [0.0088404 , 0.69156029, 0.3585671 ],\n",
              "        [0.93072683, 0.1219602 , 0.37430575],\n",
              "        [0.97336173, 0.96075597, 0.8643694 ]],\n",
              "\n",
              "       [[0.81677004, 0.36904676, 0.64910458],\n",
              "        [0.98745053, 0.40116011, 0.52145177],\n",
              "        [0.78767261, 0.67274007, 0.80162023],\n",
              "        ...,\n",
              "        [0.41864838, 0.45858794, 0.32137032],\n",
              "        [0.25567377, 0.13088965, 0.22090265],\n",
              "        [0.23935042, 0.27667789, 0.72653929]]])>"
            ]
          },
          "metadata": {
            "tags": []
          },
          "execution_count": 134
        }
      ]
    },
    {
      "cell_type": "markdown",
      "metadata": {
        "id": "Gj4agidGzMx7"
      },
      "source": [
        "## 9"
      ]
    },
    {
      "cell_type": "code",
      "metadata": {
        "colab": {
          "base_uri": "https://localhost:8080/"
        },
        "id": "JKcwtgm5y_FZ",
        "outputId": "1ba02cf4-1d53-43d1-cd19-bcb54bc50b5c"
      },
      "source": [
        "tensor = tf.constant([10,1,9,2,8,3,7,4,6,5])\n",
        "tensor.shape"
      ],
      "execution_count": 136,
      "outputs": [
        {
          "output_type": "execute_result",
          "data": {
            "text/plain": [
              "TensorShape([10])"
            ]
          },
          "metadata": {
            "tags": []
          },
          "execution_count": 136
        }
      ]
    },
    {
      "cell_type": "code",
      "metadata": {
        "colab": {
          "base_uri": "https://localhost:8080/"
        },
        "id": "OpLuNOvQzWDm",
        "outputId": "9ab9174e-dfb3-4eee-b944-eded631ba5c3"
      },
      "source": [
        "tf.argmin(tensor), tf.argmax(tensor)"
      ],
      "execution_count": 137,
      "outputs": [
        {
          "output_type": "execute_result",
          "data": {
            "text/plain": [
              "(<tf.Tensor: shape=(), dtype=int64, numpy=1>,\n",
              " <tf.Tensor: shape=(), dtype=int64, numpy=0>)"
            ]
          },
          "metadata": {
            "tags": []
          },
          "execution_count": 137
        }
      ]
    },
    {
      "cell_type": "markdown",
      "metadata": {
        "id": "B-QUtU6zzj-k"
      },
      "source": [
        "## 10"
      ]
    },
    {
      "cell_type": "code",
      "metadata": {
        "colab": {
          "base_uri": "https://localhost:8080/"
        },
        "id": "f9wPWEXrzhDy",
        "outputId": "fa7726da-fcf6-4766-d5dc-c34188a21faf"
      },
      "source": [
        "tf.one_hot(tensor, depth=10)"
      ],
      "execution_count": 139,
      "outputs": [
        {
          "output_type": "execute_result",
          "data": {
            "text/plain": [
              "<tf.Tensor: shape=(10, 10), dtype=float32, numpy=\n",
              "array([[0., 0., 0., 0., 0., 0., 0., 0., 0., 0.],\n",
              "       [0., 1., 0., 0., 0., 0., 0., 0., 0., 0.],\n",
              "       [0., 0., 0., 0., 0., 0., 0., 0., 0., 1.],\n",
              "       [0., 0., 1., 0., 0., 0., 0., 0., 0., 0.],\n",
              "       [0., 0., 0., 0., 0., 0., 0., 0., 1., 0.],\n",
              "       [0., 0., 0., 1., 0., 0., 0., 0., 0., 0.],\n",
              "       [0., 0., 0., 0., 0., 0., 0., 1., 0., 0.],\n",
              "       [0., 0., 0., 0., 1., 0., 0., 0., 0., 0.],\n",
              "       [0., 0., 0., 0., 0., 0., 1., 0., 0., 0.],\n",
              "       [0., 0., 0., 0., 0., 1., 0., 0., 0., 0.]], dtype=float32)>"
            ]
          },
          "metadata": {
            "tags": []
          },
          "execution_count": 139
        }
      ]
    },
    {
      "cell_type": "markdown",
      "metadata": {
        "id": "Dwya5ih71Dra"
      },
      "source": [
        "# TODO: Extra-curriculum"
      ]
    },
    {
      "cell_type": "code",
      "metadata": {
        "id": "v1jKyK-_zmMY"
      },
      "source": [
        ""
      ],
      "execution_count": null,
      "outputs": []
    }
  ]
}